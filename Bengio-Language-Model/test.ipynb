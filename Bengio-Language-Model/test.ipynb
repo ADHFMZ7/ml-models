{
 "cells": [
  {
   "cell_type": "code",
   "execution_count": 17,
   "metadata": {},
   "outputs": [],
   "source": [
    "import torch\n",
    "from torch import nn"
   ]
  },
  {
   "cell_type": "code",
   "execution_count": 30,
   "metadata": {},
   "outputs": [
    {
     "name": "stdout",
     "output_type": "stream",
     "text": [
      "104\n"
     ]
    }
   ],
   "source": [
    "# Get data from the dataset\n",
    "\n",
    "with open('../data/russian-novels/WAP.txt', 'r', encoding='utf-8-sig') as file:\n",
    "    text = file.read()\n",
    "    \n",
    "chars = sorted(list(set(text)))\n",
    "print(len(chars))\n",
    "ctoi = {c: i+1 for i, c in enumerate(chars)}\n",
    "ctoi['_'] = 0\n",
    "itoc = {i: c for c, i in ctoi.items()}\n",
    "\n",
    "encode = lambda x: torch.tensor([ctoi[c] for c in x], dtype=torch.long)\n",
    "decode = lambda x: ''.join([itoc[i.item()] for i in x])"
   ]
  },
  {
   "cell_type": "code",
   "execution_count": 31,
   "metadata": {},
   "outputs": [
    {
     "data": {
      "text/plain": [
       "(torch.Size([3208265, 8]), torch.Size([3208265]))"
      ]
     },
     "execution_count": 31,
     "metadata": {},
     "output_type": "execute_result"
    }
   ],
   "source": [
    "# Build dataset\n",
    "block_size = 8\n",
    "\n",
    "X, Y = [], []\n",
    "\n",
    "for i in range(0, len(text) - block_size):\n",
    "    X.append([ctoi[c] for c in text[i:i+block_size]])\n",
    "    Y.append(ctoi[text[i+block_size]])\n",
    "\n",
    "X = torch.tensor(X)\n",
    "Y = torch.tensor(Y)\n",
    "\n",
    "X.shape, Y.shape"
   ]
  },
  {
   "cell_type": "code",
   "execution_count": 53,
   "metadata": {},
   "outputs": [
    {
     "name": "stdout",
     "output_type": "stream",
     "text": [
      "ly (as i\n",
      "f\n"
     ]
    }
   ],
   "source": [
    "def get_batch(batch_size=32):\n",
    "    idx = torch.randint(0, X.size(0), (batch_size,))\n",
    "    return X[idx], Y[idx]\n",
    "\n",
    "batch = get_batch()"
   ]
  },
  {
   "cell_type": "code",
   "execution_count": 132,
   "metadata": {},
   "outputs": [],
   "source": [
    "\n",
    "class Model(nn.Module):\n",
    "    def __init__(self):\n",
    "        super().__init__()\n",
    "        self.C = torch.randn(len(chars)+1, 2)\n",
    "        self.W1 = torch.randn(16, 100)\n",
    "        self.b1 = torch.randn(100)\n",
    "        self.W2 = torch.randn(100, len(chars)+1)\n",
    "        self.b2 = torch.randn(len(chars)+1)\n",
    "        self.criterion = nn.CrossEntropyLoss()\n",
    "        \n",
    "    def forward(self, x, y):\n",
    "        emb = self.C[x].view(-1, 16)\n",
    "        h = torch.tanh(emb @ self.W1 + self.b1)\n",
    "        logits = h @ self.W2 + self.b2\n",
    "        print(logits.shape)\n",
    "        preds = torch.softmax(logits, dim=1)\n",
    "        print(preds.shape, y.shape)\n",
    "        loss = self.criterion(preds, y)\n",
    "        return preds, loss"
   ]
  },
  {
   "cell_type": "code",
   "execution_count": 192,
   "metadata": {},
   "outputs": [
    {
     "name": "stdout",
     "output_type": "stream",
     "text": [
      "torch.Size([32, 105])\n",
      "torch.Size([32, 105]) torch.Size([32])\n"
     ]
    },
    {
     "data": {
      "text/plain": [
       "tensor(4.6674)"
      ]
     },
     "execution_count": 192,
     "metadata": {},
     "output_type": "execute_result"
    }
   ],
   "source": [
    "x, y = get_batch()\n",
    "\n",
    "# print(y.shape)\n",
    "# print(x.shape)\n",
    "model = Model()\n",
    "\n",
    "preds, loss = model.forward(x, y)\n",
    "\n",
    "loss\n"
   ]
  },
  {
   "cell_type": "code",
   "execution_count": 61,
   "metadata": {},
   "outputs": [
    {
     "data": {
      "text/plain": [
       "104"
      ]
     },
     "execution_count": 61,
     "metadata": {},
     "output_type": "execute_result"
    }
   ],
   "source": []
  },
  {
   "cell_type": "code",
   "execution_count": 129,
   "metadata": {},
   "outputs": [
    {
     "data": {
      "text/plain": [
       "{'\\n': 1,\n",
       " ' ': 2,\n",
       " '!': 3,\n",
       " '(': 4,\n",
       " ')': 5,\n",
       " '*': 6,\n",
       " ',': 7,\n",
       " '-': 8,\n",
       " '.': 9,\n",
       " '/': 10,\n",
       " '0': 11,\n",
       " '1': 12,\n",
       " '2': 13,\n",
       " '3': 14,\n",
       " '4': 15,\n",
       " '5': 16,\n",
       " '6': 17,\n",
       " '7': 18,\n",
       " '8': 19,\n",
       " '9': 20,\n",
       " ':': 21,\n",
       " ';': 22,\n",
       " '=': 23,\n",
       " '?': 24,\n",
       " 'A': 25,\n",
       " 'B': 26,\n",
       " 'C': 27,\n",
       " 'D': 28,\n",
       " 'E': 29,\n",
       " 'F': 30,\n",
       " 'G': 31,\n",
       " 'H': 32,\n",
       " 'I': 33,\n",
       " 'J': 34,\n",
       " 'K': 35,\n",
       " 'L': 36,\n",
       " 'M': 37,\n",
       " 'N': 38,\n",
       " 'O': 39,\n",
       " 'P': 40,\n",
       " 'Q': 41,\n",
       " 'R': 42,\n",
       " 'S': 43,\n",
       " 'T': 44,\n",
       " 'U': 45,\n",
       " 'V': 46,\n",
       " 'W': 47,\n",
       " 'X': 48,\n",
       " 'Y': 49,\n",
       " 'Z': 50,\n",
       " 'a': 51,\n",
       " 'b': 52,\n",
       " 'c': 53,\n",
       " 'd': 54,\n",
       " 'e': 55,\n",
       " 'f': 56,\n",
       " 'g': 57,\n",
       " 'h': 58,\n",
       " 'i': 59,\n",
       " 'j': 60,\n",
       " 'k': 61,\n",
       " 'l': 62,\n",
       " 'm': 63,\n",
       " 'n': 64,\n",
       " 'o': 65,\n",
       " 'p': 66,\n",
       " 'q': 67,\n",
       " 'r': 68,\n",
       " 's': 69,\n",
       " 't': 70,\n",
       " 'u': 71,\n",
       " 'v': 72,\n",
       " 'w': 73,\n",
       " 'x': 74,\n",
       " 'y': 75,\n",
       " 'z': 76,\n",
       " 'À': 77,\n",
       " 'Á': 78,\n",
       " 'É': 79,\n",
       " 'à': 80,\n",
       " 'á': 81,\n",
       " 'â': 82,\n",
       " 'ä': 83,\n",
       " 'æ': 84,\n",
       " 'ç': 85,\n",
       " 'è': 86,\n",
       " 'é': 87,\n",
       " 'ê': 88,\n",
       " 'ë': 89,\n",
       " 'í': 90,\n",
       " 'î': 91,\n",
       " 'ï': 92,\n",
       " 'ó': 93,\n",
       " 'ô': 94,\n",
       " 'ö': 95,\n",
       " 'ú': 96,\n",
       " 'ü': 97,\n",
       " 'ý': 98,\n",
       " 'œ': 99,\n",
       " '—': 100,\n",
       " '‘': 101,\n",
       " '’': 102,\n",
       " '“': 103,\n",
       " '”': 104,\n",
       " '_': 0}"
      ]
     },
     "execution_count": 129,
     "metadata": {},
     "output_type": "execute_result"
    }
   ],
   "source": [
    "ctoi"
   ]
  },
  {
   "cell_type": "code",
   "execution_count": 130,
   "metadata": {},
   "outputs": [
    {
     "data": {
      "text/plain": [
       "{1: '\\n',\n",
       " 2: ' ',\n",
       " 3: '!',\n",
       " 4: '(',\n",
       " 5: ')',\n",
       " 6: '*',\n",
       " 7: ',',\n",
       " 8: '-',\n",
       " 9: '.',\n",
       " 10: '/',\n",
       " 11: '0',\n",
       " 12: '1',\n",
       " 13: '2',\n",
       " 14: '3',\n",
       " 15: '4',\n",
       " 16: '5',\n",
       " 17: '6',\n",
       " 18: '7',\n",
       " 19: '8',\n",
       " 20: '9',\n",
       " 21: ':',\n",
       " 22: ';',\n",
       " 23: '=',\n",
       " 24: '?',\n",
       " 25: 'A',\n",
       " 26: 'B',\n",
       " 27: 'C',\n",
       " 28: 'D',\n",
       " 29: 'E',\n",
       " 30: 'F',\n",
       " 31: 'G',\n",
       " 32: 'H',\n",
       " 33: 'I',\n",
       " 34: 'J',\n",
       " 35: 'K',\n",
       " 36: 'L',\n",
       " 37: 'M',\n",
       " 38: 'N',\n",
       " 39: 'O',\n",
       " 40: 'P',\n",
       " 41: 'Q',\n",
       " 42: 'R',\n",
       " 43: 'S',\n",
       " 44: 'T',\n",
       " 45: 'U',\n",
       " 46: 'V',\n",
       " 47: 'W',\n",
       " 48: 'X',\n",
       " 49: 'Y',\n",
       " 50: 'Z',\n",
       " 51: 'a',\n",
       " 52: 'b',\n",
       " 53: 'c',\n",
       " 54: 'd',\n",
       " 55: 'e',\n",
       " 56: 'f',\n",
       " 57: 'g',\n",
       " 58: 'h',\n",
       " 59: 'i',\n",
       " 60: 'j',\n",
       " 61: 'k',\n",
       " 62: 'l',\n",
       " 63: 'm',\n",
       " 64: 'n',\n",
       " 65: 'o',\n",
       " 66: 'p',\n",
       " 67: 'q',\n",
       " 68: 'r',\n",
       " 69: 's',\n",
       " 70: 't',\n",
       " 71: 'u',\n",
       " 72: 'v',\n",
       " 73: 'w',\n",
       " 74: 'x',\n",
       " 75: 'y',\n",
       " 76: 'z',\n",
       " 77: 'À',\n",
       " 78: 'Á',\n",
       " 79: 'É',\n",
       " 80: 'à',\n",
       " 81: 'á',\n",
       " 82: 'â',\n",
       " 83: 'ä',\n",
       " 84: 'æ',\n",
       " 85: 'ç',\n",
       " 86: 'è',\n",
       " 87: 'é',\n",
       " 88: 'ê',\n",
       " 89: 'ë',\n",
       " 90: 'í',\n",
       " 91: 'î',\n",
       " 92: 'ï',\n",
       " 93: 'ó',\n",
       " 94: 'ô',\n",
       " 95: 'ö',\n",
       " 96: 'ú',\n",
       " 97: 'ü',\n",
       " 98: 'ý',\n",
       " 99: 'œ',\n",
       " 100: '—',\n",
       " 101: '‘',\n",
       " 102: '’',\n",
       " 103: '“',\n",
       " 104: '”',\n",
       " 0: '_'}"
      ]
     },
     "execution_count": 130,
     "metadata": {},
     "output_type": "execute_result"
    }
   ],
   "source": [
    "itoc"
   ]
  },
  {
   "cell_type": "code",
   "execution_count": null,
   "metadata": {},
   "outputs": [],
   "source": []
  }
 ],
 "metadata": {
  "kernelspec": {
   "display_name": "ml",
   "language": "python",
   "name": "python3"
  },
  "language_info": {
   "codemirror_mode": {
    "name": "ipython",
    "version": 3
   },
   "file_extension": ".py",
   "mimetype": "text/x-python",
   "name": "python",
   "nbconvert_exporter": "python",
   "pygments_lexer": "ipython3",
   "version": "3.10.11"
  }
 },
 "nbformat": 4,
 "nbformat_minor": 2
}
